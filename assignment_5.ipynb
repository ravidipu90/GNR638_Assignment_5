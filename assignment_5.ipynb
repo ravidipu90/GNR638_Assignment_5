{
 "cells": [
  {
   "cell_type": "markdown",
   "metadata": {},
   "source": [
    " 1. Imports and Configurations"
   ]
  },
  {
   "cell_type": "code",
   "execution_count": 10,
   "metadata": {},
   "outputs": [],
   "source": [
    "#Imports all necessary libraries for data handling, model building, and training.\n",
    "import os\n",
    "import numpy as np\n",
    "import matplotlib.pyplot as plt\n",
    "import tensorflow as tf\n",
    "from tensorflow.keras import layers, models, optimizers\n",
    "from tensorflow.keras.preprocessing.image import ImageDataGenerator"
   ]
  },
  {
   "cell_type": "code",
   "execution_count": 12,
   "metadata": {},
   "outputs": [],
   "source": [
    "# Configuration\n",
    "DATA_PATH = 'data'                  # Path to the dataset directory\n",
    "IMG_SIZE = (64, 64)                 # Target image size for resizing\n",
    "BATCH_SIZE = 32                     # Number of samples per training batch\n",
    "NUM_EPOCHS = 30                     # Total number of training epochs\n",
    "LATENT_DIM_1 = 64                   # Latent dimension size for z1\n",
    "LATENT_DIM_2 = 32                   # Latent dimension size for z2 (deeper hierarchy)\n"
   ]
  },
  {
   "cell_type": "markdown",
   "metadata": {},
   "source": [
    " 2. Data Generator (Unsupervised)"
   ]
  },
  {
   "cell_type": "code",
   "execution_count": 16,
   "metadata": {},
   "outputs": [],
   "source": [
    "# Data generator without labels (unsupervised)\n",
    " #Normalizes image pixels to [0, 1] and splits dataset into training/validation.\n",
    "\n",
    "datagen = ImageDataGenerator(rescale=1./255, validation_split=0.2)\n"
   ]
  },
  {
   "cell_type": "code",
   "execution_count": 18,
   "metadata": {},
   "outputs": [
    {
     "name": "stdout",
     "output_type": "stream",
     "text": [
      "Found 1680 images belonging to 21 classes.\n",
      "Found 420 images belonging to 21 classes.\n"
     ]
    }
   ],
   "source": [
    "train_generator = datagen.flow_from_directory(\n",
    "    DATA_PATH,                      # Directory containing images\n",
    "    target_size=IMG_SIZE,           # Resize all images to IMG_SIZE\n",
    "    batch_size=BATCH_SIZE,          # Batch size\n",
    "    class_mode=None,                # No labels since it's unsupervised\n",
    "    subset='training',              # Use 80% of data for training\n",
    "    shuffle=True,                   # Shuffle data for training\n",
    "    seed=42                         # Seed for reproducibility\n",
    ")\n",
    "\n",
    "\n",
    "val_generator = datagen.flow_from_directory(\n",
    "    DATA_PATH,\n",
    "    target_size=IMG_SIZE,\n",
    "    batch_size=BATCH_SIZE,\n",
    "    class_mode=None,\n",
    "    subset='validation',            # Use 20% of data for validation\n",
    "    shuffle=False                   # No need to shuffle validation data\n",
    ")\n"
   ]
  },
  {
   "cell_type": "markdown",
   "metadata": {},
   "source": [
    "🔹 3. Sampling Layer for Reparameterization Trick"
   ]
  },
  {
   "cell_type": "code",
   "execution_count": 19,
   "metadata": {},
   "outputs": [],
   "source": [
    "#Allows gradients to pass through stochastic nodes by sampling from a Gaussian.\n",
    "\n",
    "# Sampling layer for reparameterization trick\n",
    "class Sampling(layers.Layer):\n",
    "    def call(self, inputs):\n",
    "        mean, log_var = inputs\n",
    "        epsilon = tf.random.normal(tf.shape(mean))  # Random noise ~ N(0,1)\n",
    "        return mean + tf.exp(0.5 * log_var) * epsilon  # Reparameterization\n"
   ]
  },
  {
   "cell_type": "markdown",
   "metadata": {},
   "source": [
    " 4. Encoder Network"
   ]
  },
  {
   "cell_type": "code",
   "execution_count": 20,
   "metadata": {},
   "outputs": [],
   "source": [
    "def build_encoder(input_shape):\n",
    "    inputs = layers.Input(shape=input_shape)                         # Input image\n",
    "    x = layers.Conv2D(32, 3, strides=2, padding='same', activation='relu')(inputs)  # Downsample to 32x32\n",
    "    x = layers.Conv2D(64, 3, strides=2, padding='same', activation='relu')(x)       # Downsample to 16x16\n",
    "    x = layers.Flatten()(x)                                          # Flatten to vector\n",
    "    x = layers.Dense(128, activation='relu')(x)                      # Dense hidden layer\n",
    "\n",
    "    # First latent layer (z1)\n",
    "    z1_mean = layers.Dense(LATENT_DIM_1)(x)\n",
    "    z1_log_var = layers.Dense(LATENT_DIM_1)(x)\n",
    "    z1 = Sampling()([z1_mean, z1_log_var])\n",
    "\n",
    "    # Second latent layer (z2), conditioned on z1\n",
    "    z2_mean = layers.Dense(LATENT_DIM_2)(z1)\n",
    "    z2_log_var = layers.Dense(LATENT_DIM_2)(z1)\n",
    "    z2 = Sampling()([z2_mean, z2_log_var])\n",
    "\n",
    "    return models.Model(inputs, [z1_mean, z1_log_var, z1, z2_mean, z2_log_var, z2], name=\"Encoder\")\n",
    "\n",
    "#Maps input image → z1 → z2 using convolution + dense layers."
   ]
  },
  {
   "cell_type": "markdown",
   "metadata": {},
   "source": [
    "5. Decoder Network"
   ]
  },
  {
   "cell_type": "code",
   "execution_count": 21,
   "metadata": {},
   "outputs": [],
   "source": [
    "#Reconstructs image from z2 latent representation using transposed convolutions.\n",
    "\n",
    "def build_decoder(output_shape):\n",
    "    z2_input = layers.Input(shape=(LATENT_DIM_2,))                   # Input latent vector z2\n",
    "    x = layers.Dense(8*8*64, activation='relu')(z2_input)            # Project to shape suitable for reshaping\n",
    "    x = layers.Reshape((8, 8, 64))(x)                                # Reshape into image block\n",
    "\n",
    "    x = layers.Conv2DTranspose(64, 3, strides=2, padding='same', activation='relu')(x)  # 16x16\n",
    "    x = layers.Conv2DTranspose(32, 3, strides=2, padding='same', activation='relu')(x)  # 32x32\n",
    "    x = layers.Conv2DTranspose(16, 3, strides=2, padding='same', activation='relu')(x)  # 64x64\n",
    "    x = layers.Conv2DTranspose(3, 3, activation='sigmoid', padding='same')(x)           # Final RGB image\n",
    "    return models.Model(z2_input, x, name=\"Decoder\")\n"
   ]
  },
  {
   "cell_type": "markdown",
   "metadata": {},
   "source": [
    "6. HVAE Model Class (Training & Losses)"
   ]
  },
  {
   "cell_type": "code",
   "execution_count": 33,
   "metadata": {},
   "outputs": [
    {
     "name": "stdout",
     "output_type": "stream",
     "text": [
      "Epoch 1/30\n",
      "52/52 [==============================] - 12s 174ms/step - loss: 541.5773 - reconstruction_loss: 516.6884 - kl_loss: 24.8890 - val_loss: 548.1063 - val_reconstruction_loss: 526.2956 - val_kl_loss: 21.8107\n",
      "Epoch 2/30\n",
      "52/52 [==============================] - 8s 153ms/step - loss: 485.0198 - reconstruction_loss: 457.0467 - kl_loss: 27.9732 - val_loss: 490.9354 - val_reconstruction_loss: 463.6928 - val_kl_loss: 27.2425\n",
      "Epoch 3/30\n",
      "52/52 [==============================] - 9s 165ms/step - loss: 458.9152 - reconstruction_loss: 432.2359 - kl_loss: 26.6793 - val_loss: 478.7020 - val_reconstruction_loss: 452.4886 - val_kl_loss: 26.2134\n",
      "Epoch 4/30\n",
      "52/52 [==============================] - 9s 173ms/step - loss: 446.8124 - reconstruction_loss: 421.5319 - kl_loss: 25.2807 - val_loss: 471.8487 - val_reconstruction_loss: 448.1176 - val_kl_loss: 23.7310\n",
      "Epoch 5/30\n",
      "52/52 [==============================] - 9s 164ms/step - loss: 444.6735 - reconstruction_loss: 420.1611 - kl_loss: 24.5123 - val_loss: 468.8226 - val_reconstruction_loss: 446.1687 - val_kl_loss: 22.6538\n",
      "Epoch 6/30\n",
      "52/52 [==============================] - 8s 150ms/step - loss: 436.1942 - reconstruction_loss: 413.0808 - kl_loss: 23.1133 - val_loss: 468.0044 - val_reconstruction_loss: 446.8553 - val_kl_loss: 21.1492\n",
      "Epoch 7/30\n",
      "52/52 [==============================] - 7s 135ms/step - loss: 438.3533 - reconstruction_loss: 416.3021 - kl_loss: 22.0514 - val_loss: 464.9999 - val_reconstruction_loss: 445.0292 - val_kl_loss: 19.9708\n",
      "Epoch 8/30\n",
      "52/52 [==============================] - 9s 165ms/step - loss: 433.2652 - reconstruction_loss: 412.6338 - kl_loss: 20.6313 - val_loss: 458.7666 - val_reconstruction_loss: 439.0773 - val_kl_loss: 19.6893\n",
      "Epoch 9/30\n",
      "52/52 [==============================] - 8s 162ms/step - loss: 428.7692 - reconstruction_loss: 408.3726 - kl_loss: 20.3966 - val_loss: 461.9818 - val_reconstruction_loss: 441.8722 - val_kl_loss: 20.1096\n",
      "Epoch 10/30\n",
      "52/52 [==============================] - 8s 157ms/step - loss: 428.5544 - reconstruction_loss: 408.9492 - kl_loss: 19.6052 - val_loss: 459.0259 - val_reconstruction_loss: 442.0384 - val_kl_loss: 16.9875\n",
      "Epoch 11/30\n",
      "52/52 [==============================] - 8s 152ms/step - loss: 426.5926 - reconstruction_loss: 408.1815 - kl_loss: 18.4110 - val_loss: 452.7872 - val_reconstruction_loss: 435.8800 - val_kl_loss: 16.9072\n",
      "Epoch 12/30\n",
      "52/52 [==============================] - 8s 152ms/step - loss: 424.0086 - reconstruction_loss: 405.9932 - kl_loss: 18.0154 - val_loss: 452.7350 - val_reconstruction_loss: 435.4414 - val_kl_loss: 17.2935\n",
      "Epoch 13/30\n",
      "52/52 [==============================] - 8s 154ms/step - loss: 420.9605 - reconstruction_loss: 403.8902 - kl_loss: 17.0702 - val_loss: 448.5430 - val_reconstruction_loss: 431.3916 - val_kl_loss: 17.1513\n",
      "Epoch 14/30\n",
      "52/52 [==============================] - 8s 159ms/step - loss: 416.1346 - reconstruction_loss: 399.1979 - kl_loss: 16.9366 - val_loss: 447.6424 - val_reconstruction_loss: 430.6999 - val_kl_loss: 16.9425\n",
      "Epoch 15/30\n",
      "52/52 [==============================] - 8s 150ms/step - loss: 414.2200 - reconstruction_loss: 397.3726 - kl_loss: 16.8473 - val_loss: 447.5833 - val_reconstruction_loss: 430.0146 - val_kl_loss: 17.5687\n",
      "Epoch 16/30\n",
      "52/52 [==============================] - 8s 150ms/step - loss: 413.9841 - reconstruction_loss: 396.4319 - kl_loss: 17.5522 - val_loss: 440.7706 - val_reconstruction_loss: 423.6997 - val_kl_loss: 17.0709\n",
      "Epoch 17/30\n",
      "52/52 [==============================] - 8s 161ms/step - loss: 410.9820 - reconstruction_loss: 393.1698 - kl_loss: 17.8121 - val_loss: 439.2017 - val_reconstruction_loss: 421.1177 - val_kl_loss: 18.0840\n",
      "Epoch 18/30\n",
      "52/52 [==============================] - 8s 149ms/step - loss: 409.8527 - reconstruction_loss: 391.2484 - kl_loss: 18.6042 - val_loss: 437.3474 - val_reconstruction_loss: 420.6435 - val_kl_loss: 16.7038\n",
      "Epoch 19/30\n",
      "52/52 [==============================] - 8s 151ms/step - loss: 404.8157 - reconstruction_loss: 386.0402 - kl_loss: 18.7756 - val_loss: 438.2845 - val_reconstruction_loss: 418.7876 - val_kl_loss: 19.4969\n",
      "Epoch 20/30\n",
      "52/52 [==============================] - 8s 155ms/step - loss: 405.4416 - reconstruction_loss: 385.8111 - kl_loss: 19.6305 - val_loss: 430.9542 - val_reconstruction_loss: 411.1131 - val_kl_loss: 19.8411\n",
      "Epoch 21/30\n",
      "52/52 [==============================] - 8s 148ms/step - loss: 402.0239 - reconstruction_loss: 382.7959 - kl_loss: 19.2281 - val_loss: 429.2595 - val_reconstruction_loss: 409.6832 - val_kl_loss: 19.5762\n",
      "Epoch 22/30\n",
      "52/52 [==============================] - 8s 150ms/step - loss: 398.8835 - reconstruction_loss: 379.5097 - kl_loss: 19.3738 - val_loss: 426.9611 - val_reconstruction_loss: 406.5692 - val_kl_loss: 20.3918\n",
      "Epoch 23/30\n",
      "52/52 [==============================] - 8s 150ms/step - loss: 398.1242 - reconstruction_loss: 379.6148 - kl_loss: 18.5094 - val_loss: 427.5358 - val_reconstruction_loss: 408.2095 - val_kl_loss: 19.3263\n",
      "Epoch 24/30\n",
      "52/52 [==============================] - 9s 170ms/step - loss: 397.3027 - reconstruction_loss: 378.7375 - kl_loss: 18.5653 - val_loss: 424.5171 - val_reconstruction_loss: 404.8035 - val_kl_loss: 19.7136\n",
      "Epoch 25/30\n",
      "52/52 [==============================] - 8s 158ms/step - loss: 395.0296 - reconstruction_loss: 376.7697 - kl_loss: 18.2600 - val_loss: 424.0601 - val_reconstruction_loss: 405.0653 - val_kl_loss: 18.9949\n",
      "Epoch 26/30\n",
      "52/52 [==============================] - 8s 159ms/step - loss: 393.7984 - reconstruction_loss: 375.1157 - kl_loss: 18.6826 - val_loss: 422.5875 - val_reconstruction_loss: 403.1873 - val_kl_loss: 19.4002\n",
      "Epoch 27/30\n",
      "52/52 [==============================] - 8s 160ms/step - loss: 394.7304 - reconstruction_loss: 375.8340 - kl_loss: 18.8963 - val_loss: 421.8500 - val_reconstruction_loss: 401.9102 - val_kl_loss: 19.9398\n",
      "Epoch 28/30\n",
      "52/52 [==============================] - 8s 159ms/step - loss: 390.3595 - reconstruction_loss: 370.7622 - kl_loss: 19.5973 - val_loss: 416.8052 - val_reconstruction_loss: 396.0374 - val_kl_loss: 20.7678\n",
      "Epoch 29/30\n",
      "52/52 [==============================] - 8s 154ms/step - loss: 387.9584 - reconstruction_loss: 367.7358 - kl_loss: 20.2225 - val_loss: 416.2128 - val_reconstruction_loss: 396.0096 - val_kl_loss: 20.2031\n",
      "Epoch 30/30\n",
      "52/52 [==============================] - 9s 166ms/step - loss: 386.6813 - reconstruction_loss: 366.1799 - kl_loss: 20.5014 - val_loss: 415.2296 - val_reconstruction_loss: 393.6393 - val_kl_loss: 21.5902\n"
     ]
    }
   ],
   "source": [
    "class HVAE(models.Model):\n",
    "    def __init__(self, encoder, decoder, **kwargs):\n",
    "        super(HVAE, self).__init__(**kwargs)\n",
    "        self.encoder = encoder\n",
    "        self.decoder = decoder\n",
    "\n",
    "        self.total_loss_tracker = tf.keras.metrics.Mean(name=\"loss\")\n",
    "        self.recon_loss_tracker = tf.keras.metrics.Mean(name=\"reconstruction_loss\")\n",
    "        self.kl_loss_tracker = tf.keras.metrics.Mean(name=\"kl_loss\")\n",
    "\n",
    "    def compile(self, optimizer):\n",
    "        super(HVAE, self).compile()\n",
    "        self.optimizer = optimizer\n",
    "\n",
    "    @property\n",
    "    def metrics(self):\n",
    "        return [\n",
    "            self.total_loss_tracker,\n",
    "            self.recon_loss_tracker,\n",
    "            self.kl_loss_tracker\n",
    "        ]\n",
    "#Training Step\n",
    "    def train_step(self, data):\n",
    "        with tf.GradientTape() as tape:\n",
    "            z1_mean, z1_log_var, z1, z2_mean, z2_log_var, z2 = self.encoder(data)\n",
    "            reconstruction = self.decoder(z2)\n",
    "            recon_loss = tf.reduce_mean(tf.reduce_sum(tf.square(data - reconstruction), axis=(1, 2, 3)))\n",
    "            kl_loss_1 = -0.5 * tf.reduce_mean(tf.reduce_sum(1 + z1_log_var - tf.square(z1_mean) - tf.exp(z1_log_var), axis=1))\n",
    "            kl_loss_2 = -0.5 * tf.reduce_mean(tf.reduce_sum(1 + z2_log_var - tf.square(z2_mean) - tf.exp(z2_log_var), axis=1))\n",
    "            total_loss = recon_loss + kl_loss_1 + kl_loss_2\n",
    "\n",
    "        grads = tape.gradient(total_loss, self.trainable_weights)\n",
    "        self.optimizer.apply_gradients(zip(grads, self.trainable_weights))\n",
    "\n",
    "        self.total_loss_tracker.update_state(total_loss)\n",
    "        self.recon_loss_tracker.update_state(recon_loss)\n",
    "        self.kl_loss_tracker.update_state(kl_loss_1 + kl_loss_2)\n",
    "\n",
    "        return {\n",
    "            \"loss\": self.total_loss_tracker.result(),\n",
    "            \"reconstruction_loss\": self.recon_loss_tracker.result(),\n",
    "            \"kl_loss\": self.kl_loss_tracker.result()\n",
    "        }\n",
    "#Validation Step\n",
    "\n",
    "    def test_step(self, data):\n",
    "        z1_mean, z1_log_var, z1, z2_mean, z2_log_var, z2 = self.encoder(data)\n",
    "        reconstruction = self.decoder(z2)\n",
    "        recon_loss = tf.reduce_mean(tf.reduce_sum(tf.square(data - reconstruction), axis=(1, 2, 3)))\n",
    "        kl_loss_1 = -0.5 * tf.reduce_mean(tf.reduce_sum(1 + z1_log_var - tf.square(z1_mean) - tf.exp(z1_log_var), axis=1))\n",
    "        kl_loss_2 = -0.5 * tf.reduce_mean(tf.reduce_sum(1 + z2_log_var - tf.square(z2_mean) - tf.exp(z2_log_var), axis=1))\n",
    "        total_loss = recon_loss + kl_loss_1 + kl_loss_2\n",
    "\n",
    "        self.total_loss_tracker.update_state(total_loss)\n",
    "        self.recon_loss_tracker.update_state(recon_loss)\n",
    "        self.kl_loss_tracker.update_state(kl_loss_1 + kl_loss_2)\n",
    "\n",
    "        return {\n",
    "            \"loss\": self.total_loss_tracker.result(),\n",
    "            \"reconstruction_loss\": self.recon_loss_tracker.result(),\n",
    "            \"kl_loss\": self.kl_loss_tracker.result()\n",
    "        }\n",
    "#Build and Train the Model\n",
    "\n",
    "# Build and compile model\n",
    "input_shape = IMG_SIZE + (3,)             # (64, 64, 3)\n",
    "encoder = build_encoder(input_shape)      # Instantiate encoder\n",
    "decoder = build_decoder(input_shape)      # Instantiate decoder\n",
    "model = HVAE(encoder, decoder)            # Create full HVAE model\n",
    "model.compile(optimizer=optimizers.Adam())# Compile with Adam optimizer\n",
    "\n",
    "# Train\n",
    "history = model.fit(\n",
    "    train_generator,\n",
    "    validation_data=val_generator,\n",
    "    epochs=NUM_EPOCHS,\n",
    "    steps_per_epoch=train_generator.samples // BATCH_SIZE,\n",
    "    validation_steps=val_generator.samples // BATCH_SIZE\n",
    ")\n",
    "\n"
   ]
  },
  {
   "cell_type": "code",
   "execution_count": 34,
   "metadata": {},
   "outputs": [
    {
     "data": {
      "image/png": "[encoded data removed]",
      "text/plain": [
       "<Figure size 800x500 with 1 Axes>"
      ]
     },
     "metadata": {},
     "output_type": "display_data"
    }
   ],
   "source": [
    "# Plot losses\n",
    "plt.figure(figsize=(8, 5))\n",
    "plt.plot(history.history['loss'], label='Train Loss')\n",
    "plt.plot(history.history['val_loss'], label='Val Loss')\n",
    "plt.title('HVAE Loss Curve')\n",
    "plt.xlabel('Epoch')\n",
    "plt.ylabel('Loss')\n",
    "plt.legend()\n",
    "plt.grid()\n",
    "plt.show()\n"
   ]
  }
 ],
 "metadata": {
  "kernelspec": {
   "display_name": "myenv",
   "language": "python",
   "name": "python3"
  },
  "language_info": {
   "codemirror_mode": {
    "name": "ipython",
    "version": 3
   },
   "file_extension": ".py",
   "mimetype": "text/x-python",
   "name": "python",
   "nbconvert_exporter": "python",
   "pygments_lexer": "ipython3",
   "version": "3.8.20"
  }
 },
 "nbformat": 4,
 "nbformat_minor": 2
}
